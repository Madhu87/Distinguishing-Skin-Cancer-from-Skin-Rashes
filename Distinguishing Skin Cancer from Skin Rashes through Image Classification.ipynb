{
 "cells": [
  {
   "cell_type": "markdown",
   "metadata": {},
   "source": [
    "# Importing Required Libraries"
   ]
  },
  {
   "cell_type": "code",
   "execution_count": 1,
   "metadata": {},
   "outputs": [],
   "source": [
    "import pandas as pd\n",
    "import numpy as np\n",
    "from skimage.feature import greycomatrix, greycoprops\n",
    "from skimage import io, color, img_as_ubyte\n",
    "import os    \n",
    "import cv2\n",
    "import seaborn as sns\n",
    "\n",
    "from sklearn.ensemble import RandomForestClassifier\n",
    "from sklearn.model_selection import train_test_split\n",
    "from sklearn.metrics import classification_report,confusion_matrix"
   ]
  },
  {
   "cell_type": "code",
   "execution_count": 2,
   "metadata": {},
   "outputs": [],
   "source": [
    "df = pd.DataFrame(columns=['Contrast Feature','Dissimilarity Feature','Homogeneity Feature','Energy Feature','Correlation Feature','ASM Feature'])\n",
    "B_matrix = []\n",
    "M_matrix = []"
   ]
  },
  {
   "cell_type": "markdown",
   "metadata": {},
   "source": [
    "# Image -> Matrix conversion"
   ]
  },
  {
   "cell_type": "code",
   "execution_count": 3,
   "metadata": {},
   "outputs": [],
   "source": [
    "#Reading the Images\n",
    "\n",
    "path_of_Benign = r\"C:/Users/Madhu mitha/Downloads/Distinguishing Skin Cancer from Skin Rashes/Distinguishing Skin Cancer from Skin Rashes/Dataset/for-feature-extraction/benign\"\n",
    "path_of_Malignant = r\"C:/Users/Madhu mitha/Downloads/Distinguishing Skin Cancer from Skin Rashes/Distinguishing Skin Cancer from Skin Rashes/Dataset/for-feature-extraction/malignant\"\n",
    "list_of_Benign = os.listdir(path_of_Benign)\n",
    "list_of_Malignant = os.listdir(path_of_Malignant)\n",
    "\n",
    "#####################################################################################################################\n",
    "\n",
    "#Feature extraction for Benign Images\n",
    "\n",
    "for B_image in list_of_Benign:\n",
    "    B_img = cv2.imread(os.path.join(path_of_Benign, B_image))\n",
    "    B_gray = color.rgb2gray(B_img)\n",
    "    B_image = img_as_ubyte(B_gray)# Becomes 8-bit unsigned integer\n",
    "\n",
    "#This step is similar to data compression, because the 8-bit image contains 256 gray levels, which will cause the calculation of the gray level co-occurrence matrix to be too large, so it is compressed into 16 levels and the gray levels are divided\n",
    "    B_bins = np.array([0, 16, 32, 48, 64, 80, 96, 112, 128, 144, 160, 176, 192, 208, 224, 240, 255]) #16-bit\n",
    "    B_inds = np.digitize(B_image, B_bins)#Returns a matrix with the same size as the image, but the matrix element represents the interval position of the element in the image in the bins, less than 0 is 0, 0-16 is 1, and so on\n",
    "\n",
    "    max_value = B_inds.max()+1\n",
    "    B_matrix_coocurrence = greycomatrix(B_inds, #Numpy matrix for co-occurrence matrix calculation\n",
    "                                  [1],#Step\n",
    "                                  [0, np.pi/4, np.pi/2, 3*np.pi/4],#Direction angle\n",
    "                                  levels=max_value, #Co-occurrence matrix order\n",
    "                                  normed=False, symmetric=False)\n",
    "#P[i,j,d,theta] returns a four-dimensional matrix, each dimension represents a different meaning\n",
    "    B_matrix.append(B_matrix_coocurrence)\n",
    "\n",
    "\n",
    "######################################################################################################################\n",
    "#######################################################################################################################\n",
    "\n",
    "#Feature extraction for Benign Images\n",
    "\n",
    "for M_image in list_of_Malignant:\n",
    "    M_img = cv2.imread(os.path.join(path_of_Malignant, M_image))\n",
    "    M_gray = color.rgb2gray(M_img)\n",
    "    M_image = img_as_ubyte(M_gray)\n",
    "\n",
    "\n",
    "    M_bins = np.array([0, 16, 32, 48, 64, 80, 96, 112, 128, 144, 160, 176, 192, 208, 224, 240, 255]) #16-bit\n",
    "    M_inds = np.digitize(M_image, M_bins)\n",
    "\n",
    "    M_max_value = M_inds.max()+1\n",
    "    M_matrix_coocurrence = greycomatrix(M_inds, \n",
    "                                  [1],\n",
    "                                  [0, np.pi/4, np.pi/2, 3*np.pi/4],\n",
    "                                  levels=M_max_value,\n",
    "                                  normed=False, symmetric=False)\n",
    "\n",
    "    M_matrix.append(M_matrix_coocurrence)\n"
   ]
  },
  {
   "cell_type": "markdown",
   "metadata": {},
   "source": [
    "# Feature Extraction using GLCM"
   ]
  },
  {
   "cell_type": "code",
   "execution_count": 4,
   "metadata": {},
   "outputs": [],
   "source": [
    "CF =[]\n",
    "DF =[]\n",
    "HF =[]\n",
    "EF =[]\n",
    "COR = []\n",
    "ASM = []\n",
    "y=[]\n",
    "for i in range(0,100):\n",
    "    if i <= 50:\n",
    "        y.append(0)\n",
    "    else:\n",
    "        y.append(1)\n",
    "        \n",
    "#########################################################################################################################\n",
    "\n",
    "#Feature Extraction using GLCM Properties\n",
    "\n",
    "for i in [B_matrix,M_matrix]:\n",
    "    for matrix in i:\n",
    "        def contrast_feature(matrix):\n",
    "           contrast = greycoprops(matrix)\n",
    "           return  list(contrast)\n",
    "\n",
    "        def dissimilarity_feature(matrix):\n",
    "           dissimilarity = greycoprops(matrix)\n",
    "           return list(dissimilarity)\n",
    "\n",
    "        def homogeneity_feature(matrix):\n",
    "           homogeneity = greycoprops(matrix)\n",
    "           return  list(homogeneity)\n",
    "\n",
    "        def energy_feature(matrix):\n",
    "           energy = greycoprops(matrix)\n",
    "           return list(energy)\n",
    "\n",
    "        def correlation_feature(matrix):\n",
    "           correlation = greycoprops(matrix)\n",
    "           return list(correlation)\n",
    "\n",
    "        def asm_feature(matrix):\n",
    "           asm = greycoprops(matrix)\n",
    "           return list(asm)\n",
    "\n",
    "        CF.append(np.mean(contrast_feature(matrix)))\n",
    "        DF.append(np.mean(dissimilarity_feature(matrix)))\n",
    "        HF.append(np.mean(homogeneity_feature(matrix)))\n",
    "        EF.append(np.mean(energy_feature(matrix)))\n",
    "        COR.append(np.mean(correlation_feature(matrix)))\n",
    "        ASM.append(np.mean(asm_feature(matrix)))\n",
    "        \n",
    "#######################################################################################################################\n",
    "\n",
    "#Data\n",
    "\n",
    "Features = [CF,DF,HF,EF,COR,ASM]\n",
    "for i,j in zip(df.columns,Features):\n",
    "    df[i] = j\n",
    "    \n",
    "df['Output'] = y"
   ]
  },
  {
   "cell_type": "markdown",
   "metadata": {},
   "source": [
    "# Random Forest Classifier"
   ]
  },
  {
   "cell_type": "code",
   "execution_count": 5,
   "metadata": {},
   "outputs": [
    {
     "name": "stdout",
     "output_type": "stream",
     "text": [
      "Classification report :\n",
      "               precision    recall  f1-score   support\n",
      "\n",
      "           0       0.82      0.75      0.78        12\n",
      "           1       0.67      0.75      0.71         8\n",
      "\n",
      "    accuracy                           0.75        20\n",
      "   macro avg       0.74      0.75      0.74        20\n",
      "weighted avg       0.76      0.75      0.75        20\n",
      "\n"
     ]
    },
    {
     "data": {
      "text/plain": [
       "<AxesSubplot:>"
      ]
     },
     "execution_count": 5,
     "metadata": {},
     "output_type": "execute_result"
    },
    {
     "data": {
      "image/png": "[encoded data removed]",
      "text/plain": [
       "<Figure size 432x288 with 2 Axes>"
      ]
     },
     "metadata": {
      "needs_background": "light"
     },
     "output_type": "display_data"
    }
   ],
   "source": [
    "from sklearn.ensemble import RandomForestClassifier\n",
    "from sklearn.model_selection import train_test_split\n",
    "\n",
    "x=df.iloc[:,:-1]\n",
    "y = df.iloc[:,-1]\n",
    "\n",
    "x_train,x_test,y_train,y_test = train_test_split(x,y,random_state=42,test_size=0.2)\n",
    "\n",
    "RF_model = RandomForestClassifier(criterion='gini',random_state=42,n_jobs=-1,oob_score=True,n_estimators=50)\n",
    "RF_model.fit(x_train,y_train)\n",
    "y_pred = RF_model.predict(x_test)\n",
    "\n",
    "print('Classification report :\\n',classification_report(y_test, y_pred))\n",
    "conf_mat = confusion_matrix(y_test,y_pred)\n",
    "sns.heatmap(conf_mat,annot=True)"
   ]
  }
 ],
 "metadata": {
  "kernelspec": {
   "display_name": "Python 3",
   "language": "python",
   "name": "python3"
  },
  "language_info": {
   "codemirror_mode": {
    "name": "ipython",
    "version": 3
   },
   "file_extension": ".py",
   "mimetype": "text/x-python",
   "name": "python",
   "nbconvert_exporter": "python",
   "pygments_lexer": "ipython3",
   "version": "3.8.5"
  }
 },
 "nbformat": 4,
 "nbformat_minor": 4
}
